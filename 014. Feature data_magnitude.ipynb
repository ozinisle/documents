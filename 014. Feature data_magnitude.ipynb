{
 "cells": [
  {
   "cell_type": "code",
   "execution_count": 1,
   "metadata": {},
   "outputs": [
    {
     "name": "stdout",
     "output_type": "stream",
     "text": [
      "done\n"
     ]
    }
   ],
   "source": [
    "dataName = 'adani'\n",
    "dataFrequency = '1h'\n",
    "featureIndexStamp = \"014_\"\n",
    "variation_degree=0\n",
    "requiredMinimumCorrelation = .2\n",
    "autoConfigFileRelativePath = '\\\\src\\config\\\\autoConfig\\\\config.json'\n",
    "KEY_preProcessedDataFilePath='preProcessedDataFilePath'\n",
    "\n",
    "print('done')"
   ]
  },
  {
   "cell_type": "code",
   "execution_count": 2,
   "metadata": {
    "scrolled": true
   },
   "outputs": [
    {
     "name": "stdout",
     "output_type": "stream",
     "text": [
      "done\n",
      "into method doBasicOperation\n",
      "jupyterNodePath >>> C:\\Users\\kalagi01\\Desktop\\dev\\eraiVersion2\n",
      "configFilePath >>> C:\\Users\\kalagi01\\Desktop\\dev\\eraiVersion2\\src\\config\\autoConfig\\config.json\n",
      "added INPUT FEATURES >>> 4 count >>> open-high-low-close\n",
      "before return statement of method doBasicOperation \n"
     ]
    }
   ],
   "source": [
    "# Include python files defined in the library folder to help facilitate the stock price Prediction \n",
    "import os\n",
    "import sys  \n",
    "module_path = os.path.abspath('../../'+os.path.join('.'))\n",
    "\n",
    "sys.path.append(module_path)\n",
    "print('done')\n",
    "\n",
    "from dataPreparation import *\n",
    "from dataPreprocessing import *\n",
    "from utilities import *\n",
    "\n",
    "from dataPreparation.featurePreparation import doBasicOperation\n",
    "from dataPreparation.featurePreparation import doFeatureAssessment\n",
    "\n",
    "_basicDf,_variation_degree,_preProcessedDataFilePath,_autoConfigData,_configFilePath = doBasicOperation(dataName,\n",
    "       dataFrequency,autoConfigFileRelativePath,KEY_preProcessedDataFilePath,variation_degree)\n"
   ]
  },
  {
   "cell_type": "code",
   "execution_count": 3,
   "metadata": {
    "scrolled": true
   },
   "outputs": [
    {
     "name": "stdout",
     "output_type": "stream",
     "text": [
      " checking if folder existis >>>C:\\Users\\kalagi01\\Desktop\\dev\\eraiVersion2\\data\\adani\\processed\\features\n",
      " checking if folder existis >>>C:\\Users\\kalagi01\\Desktop\\dev\\eraiVersion2\\data\\adani\\processed\\features\\rawFeatures\n",
      " checking if folder existis >>>C:\\Users\\kalagi01\\Desktop\\dev\\eraiVersion2\\data\\adani\\processed\\features\\filteredFeatures\n",
      " checking if folder existis >>>C:\\Users\\kalagi01\\Desktop\\dev\\eraiVersion2\\data\\adani\\processed\\features\\correlations\n",
      " checking if folder existis >>>C:\\Users\\kalagi01\\Desktop\\dev\\eraiVersion2\\data\\adani\\processed\\features\\correlations\\reasonableCorrelations\n",
      "cannot delete file as the file does not exist >>C:\\Users\\kalagi01\\Desktop\\dev\\eraiVersion2\\data\\adani\\processed\\features\\filteredFeatures\\014_data_magnitude_trainableFeaturesList.csv\n",
      "cannot delete file as the file does not exist >>C:\\Users\\kalagi01\\Desktop\\dev\\eraiVersion2\\data\\adani\\processed\\features\\rawFeatures\\014_data_magnitude_variations_list.csv\n",
      "cannot delete file as the file does not exist >>C:\\Users\\kalagi01\\Desktop\\dev\\eraiVersion2\\data\\adani\\processed\\features\\correlations\\014_data_magnitude_variations_correlation_list.csv\n",
      "cannot delete file as the file does not exist >>C:\\Users\\kalagi01\\Desktop\\dev\\eraiVersion2\\data\\adani\\processed\\features\\correlations\\reasonableCorrelations\\014_data_magnitude_variations_reasonable_correlation_list.csv\n",
      "newTrainingSetDf shape>>>8350,5\n",
      "trainableFeaturesDf shape>>>8350,1\n",
      "done\n"
     ]
    }
   ],
   "source": [
    "import pandas as pd\n",
    "import numpy as np\n",
    "\n",
    "featureOfInterest = 'data_magnitude'\n",
    "_basicDf=_basicDf[1:10]\n",
    "#newFeatureDf = ((_basicDf['open']+_basicDf['high'])/2).rename(featureOfInterest)\n",
    "inputRawProcessedDataDF = pd.read_csv(_preProcessedDataFilePath) \n",
    "\n",
    "newFeatureDf = np.divide(np.sqrt(np.sum(np.square(inputRawProcessedDataDF[['open','close','high','low']]),axis=1)),4)\n",
    "newFeatureDf = newFeatureDf.rename(featureOfInterest)\n",
    "\n",
    "_correlation, _reasonableCorelation ,_newTrainingSetDf ,_trainableFeaturesDf = doFeatureAssessment(newFeatureDf,\n",
    "            _basicDf,_variation_degree,_preProcessedDataFilePath,_autoConfigData,\n",
    "            _configFilePath,requiredMinimumCorrelation,featureIndexStamp,\n",
    "            dataName,dataFrequency)\n",
    "\n",
    "print('done')"
   ]
  },
  {
   "cell_type": "code",
   "execution_count": 4,
   "metadata": {
    "scrolled": true
   },
   "outputs": [
    {
     "data": {
      "text/html": [
       "<div>\n",
       "<style scoped>\n",
       "    .dataframe tbody tr th:only-of-type {\n",
       "        vertical-align: middle;\n",
       "    }\n",
       "\n",
       "    .dataframe tbody tr th {\n",
       "        vertical-align: top;\n",
       "    }\n",
       "\n",
       "    .dataframe thead th {\n",
       "        text-align: right;\n",
       "    }\n",
       "</style>\n",
       "<table border=\"1\" class=\"dataframe\">\n",
       "  <thead>\n",
       "    <tr style=\"text-align: right;\">\n",
       "      <th></th>\n",
       "      <th>open</th>\n",
       "      <th>high</th>\n",
       "      <th>low</th>\n",
       "      <th>close</th>\n",
       "      <th>data_magnitude</th>\n",
       "    </tr>\n",
       "  </thead>\n",
       "  <tbody>\n",
       "    <tr>\n",
       "      <th>open</th>\n",
       "      <td>1.000000</td>\n",
       "      <td>0.916075</td>\n",
       "      <td>0.935786</td>\n",
       "      <td>0.907711</td>\n",
       "      <td>0.957674</td>\n",
       "    </tr>\n",
       "    <tr>\n",
       "      <th>high</th>\n",
       "      <td>0.916075</td>\n",
       "      <td>1.000000</td>\n",
       "      <td>0.944731</td>\n",
       "      <td>0.908474</td>\n",
       "      <td>0.962046</td>\n",
       "    </tr>\n",
       "    <tr>\n",
       "      <th>low</th>\n",
       "      <td>0.935786</td>\n",
       "      <td>0.944731</td>\n",
       "      <td>1.000000</td>\n",
       "      <td>0.991742</td>\n",
       "      <td>0.995962</td>\n",
       "    </tr>\n",
       "    <tr>\n",
       "      <th>close</th>\n",
       "      <td>0.907711</td>\n",
       "      <td>0.908474</td>\n",
       "      <td>0.991742</td>\n",
       "      <td>1.000000</td>\n",
       "      <td>0.982349</td>\n",
       "    </tr>\n",
       "    <tr>\n",
       "      <th>data_magnitude</th>\n",
       "      <td>0.957674</td>\n",
       "      <td>0.962046</td>\n",
       "      <td>0.995962</td>\n",
       "      <td>0.982349</td>\n",
       "      <td>1.000000</td>\n",
       "    </tr>\n",
       "  </tbody>\n",
       "</table>\n",
       "</div>"
      ],
      "text/plain": [
       "                    open      high       low     close  data_magnitude\n",
       "open            1.000000  0.916075  0.935786  0.907711        0.957674\n",
       "high            0.916075  1.000000  0.944731  0.908474        0.962046\n",
       "low             0.935786  0.944731  1.000000  0.991742        0.995962\n",
       "close           0.907711  0.908474  0.991742  1.000000        0.982349\n",
       "data_magnitude  0.957674  0.962046  0.995962  0.982349        1.000000"
      ]
     },
     "execution_count": 4,
     "metadata": {},
     "output_type": "execute_result"
    }
   ],
   "source": [
    "_reasonableCorelation"
   ]
  },
  {
   "cell_type": "code",
   "execution_count": null,
   "metadata": {},
   "outputs": [],
   "source": []
  },
  {
   "cell_type": "code",
   "execution_count": null,
   "metadata": {},
   "outputs": [],
   "source": []
  },
  {
   "cell_type": "code",
   "execution_count": null,
   "metadata": {},
   "outputs": [],
   "source": []
  },
  {
   "cell_type": "code",
   "execution_count": null,
   "metadata": {},
   "outputs": [],
   "source": []
  },
  {
   "cell_type": "code",
   "execution_count": null,
   "metadata": {},
   "outputs": [],
   "source": []
  },
  {
   "cell_type": "code",
   "execution_count": null,
   "metadata": {},
   "outputs": [],
   "source": []
  }
 ],
 "metadata": {
  "kernelspec": {
   "display_name": "Python 3",
   "language": "python",
   "name": "python3"
  },
  "language_info": {
   "codemirror_mode": {
    "name": "ipython",
    "version": 3
   },
   "file_extension": ".py",
   "mimetype": "text/x-python",
   "name": "python",
   "nbconvert_exporter": "python",
   "pygments_lexer": "ipython3",
   "version": "3.7.3"
  }
 },
 "nbformat": 4,
 "nbformat_minor": 2
}
